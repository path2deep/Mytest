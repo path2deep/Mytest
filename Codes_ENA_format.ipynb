{
  "nbformat": 4,
  "nbformat_minor": 0,
  "metadata": {
    "colab": {
      "name": "Codes_ENA_format.ipynb",
      "provenance": [],
      "authorship_tag": "ABX9TyMHZC2MBgdzZM/fo7mU2v8W",
      "include_colab_link": true
    },
    "kernelspec": {
      "name": "python3",
      "display_name": "Python 3"
    },
    "language_info": {
      "name": "python"
    }
  },
  "cells": [
    {
      "cell_type": "markdown",
      "metadata": {
        "id": "view-in-github",
        "colab_type": "text"
      },
      "source": [
        "<a href=\"https://colab.research.google.com/github/path2deep/Mytest/blob/master/Codes_ENA_format.ipynb\" target=\"_parent\"><img src=\"https://colab.research.google.com/assets/colab-badge.svg\" alt=\"Open In Colab\"/></a>"
      ]
    },
    {
      "cell_type": "code",
      "execution_count": null,
      "metadata": {
        "id": "ys1QbqJODAxJ"
      },
      "outputs": [],
      "source": [
        "import pandas as pd\n",
        "import numpy as np\n",
        "import io\n",
        "import seaborn as sns \n",
        "import matplotlib.pyplot as plt\n",
        "from google.colab import files"
      ]
    },
    {
      "cell_type": "markdown",
      "source": [
        "####upload the file"
      ],
      "metadata": {
        "id": "4vkuqknHDNUl"
      }
    },
    {
      "cell_type": "code",
      "source": [
        "uploaded = files.upload()"
      ],
      "metadata": {
        "id": "PdUslDFMDI_j"
      },
      "execution_count": null,
      "outputs": []
    },
    {
      "cell_type": "code",
      "source": [
        "file = io.BytesIO(uploaded.get(\"DeOmkar.csv\"))\n",
        "df = pd.read_csv(file)"
      ],
      "metadata": {
        "id": "A6wj-uK4DLCg"
      },
      "execution_count": null,
      "outputs": []
    },
    {
      "cell_type": "code",
      "source": [
        "data = df.copy()\n",
        "\n",
        "# groupby method\n",
        "data = data.groupby(['Screen', 'Who', 'Interaction/what is happening', 'Time', 'Codes',], as_index=True).agg({'Codes': 'count'})\n",
        "data = data.unstack(level=-1)\n",
        "data.columns = data.columns.droplevel(0)\n",
        "data = data.reset_index()\n",
        "\n",
        "data = data.fillna(0)\n"
      ],
      "metadata": {
        "id": "ei4-AYN6DUVE"
      },
      "execution_count": null,
      "outputs": []
    },
    {
      "cell_type": "markdown",
      "source": [
        "#### download the file"
      ],
      "metadata": {
        "id": "rXdoN_9cDsbC"
      }
    },
    {
      "cell_type": "code",
      "source": [
        "data.to_csv('DeOmkar_test1.csv')"
      ],
      "metadata": {
        "id": "AGcs9kCNDriP"
      },
      "execution_count": null,
      "outputs": []
    }
  ]
}